{
 "cells": [
  {
   "cell_type": "code",
   "execution_count": null,
   "id": "309ea6eb",
   "metadata": {},
   "outputs": [],
   "source": [
    "import tensorflow as tf\n",
    "import tensorflow_datasets as tfds\n",
    "from tensorflow.keras import layers\n",
    "from augmentation import preprocess_image\n",
    "from utils import *\n",
    "import cv2\n",
    "from tensorflow.keras.preprocessing.image import ImageDataGenerator\n",
    "from matplotlib import pyplot as plt\n",
    "import numpy as np\n",
    "import sys\n",
    "from tqdm import tqdm"
   ]
  },
  {
   "cell_type": "code",
   "execution_count": null,
   "id": "3675c5b5",
   "metadata": {},
   "outputs": [],
   "source": [
    "AUTOTUNE = tf.data.AUTOTUNE\n",
    "IMG_SIZE = 224\n",
    "batch_size = 32\n",
    "epochs = 45"
   ]
  },
  {
   "cell_type": "code",
   "execution_count": null,
   "id": "789a834f",
   "metadata": {},
   "outputs": [],
   "source": [
    "src_train_df, src_test_df, adp_train_df, adp_test_df, total_classes = create_DomainNet_data('clipart', 'real')"
   ]
  },
  {
   "cell_type": "code",
   "execution_count": null,
   "id": "2dbcf697",
   "metadata": {},
   "outputs": [],
   "source": [
    "train_label = list(src_train_df['label'])\n",
    "train_img_path = list(src_train_df['path'])\n",
    "\n",
    "test_label = list(src_test_df['label'])\n",
    "test_img_path = list(src_test_df['path'])\n",
    "\n",
    "train_total_samples = len(train_img_path)"
   ]
  },
  {
   "cell_type": "code",
   "execution_count": null,
   "id": "ee0d62f9",
   "metadata": {},
   "outputs": [],
   "source": [
    "img_processor_train = preprocess_image(img_size = IMG_SIZE, color_distort = True, test_crop = False, is_training = True)\n",
    "img_processor_test = preprocess_image(img_size = IMG_SIZE, color_distort = True, test_crop = False, is_training = False)\n",
    "\n",
    "def process_img_train(image_path, label):\n",
    "    image_string = tf.io.read_file(image_path)\n",
    "    image = tf.image.decode_jpeg(image_string, channels=3)\n",
    "    #print(image.shape)\n",
    "#     #image = tf.image.convert_image_dtype(image, dtype=tf.float32)\n",
    "#     image = tf.cast(image, tf.float32)\n",
    "#     #image = image/255.\n",
    "#     image = tf.image.resize(image, [IMG_SIZE, IMG_SIZE])\n",
    "#     #image = tf.clip_by_value(image, 0., 1.)\n",
    "    image = img_processor_train(image)\n",
    "    label_hot = tf.one_hot(label, total_classes)\n",
    "    return image, label_hot\n",
    "#     return image, label, label_hot\n",
    "\n",
    "def process_img_test(image_path, label):\n",
    "    image_string = tf.io.read_file(image_path)\n",
    "    image = tf.image.decode_jpeg(image_string, channels=3)\n",
    "    #print(image.shape)\n",
    "#     image = tf.cast(image, tf.float32)\n",
    "#     #image - image/255.\n",
    "#     #image = tf.image.convert_image_dtype(image, dtype=tf.float32)\n",
    "#     image = tf.image.resize(image, [IMG_SIZE, IMG_SIZE])\n",
    "#     #image = tf.clip_by_value(image, 0., 1.)\n",
    "    image = img_processor_test(image)\n",
    "    label_hot = tf.one_hot(label, total_classes)\n",
    "    return image, label_hot\n",
    "#     return image, label, label_hot"
   ]
  },
  {
   "cell_type": "code",
   "execution_count": null,
   "id": "2cd4ac5d",
   "metadata": {},
   "outputs": [],
   "source": [
    "# train_gen = ImageDataGenerator(preprocessing_function = img_processor_test)\n",
    "\n",
    "# test_gen = ImageDataGenerator(preprocessing_function = img_processor_test)\n",
    "\n",
    "\n",
    "\n",
    "# training_set=train_gen.flow_from_dataframe(dataframe=src_train_df,\n",
    "#                                             directory=None,\n",
    "#                                             x_col=\"path\",\n",
    "#                                             y_col=\"label\",\n",
    "#                                             batch_size=32,\n",
    "#                                             seed=42,\n",
    "#                                             shuffle=True,\n",
    "#                                             class_mode=\"categorical\",\n",
    "#                                             target_size=(224, 224))\n",
    "\n",
    "\n",
    "# test_set=test_gen.flow_from_dataframe(dataframe=src_test_df,\n",
    "#                                             directory=None,\n",
    "#                                             x_col=\"path\",\n",
    "#                                             y_col=\"label\",\n",
    "#                                             batch_size=32,\n",
    "#                                             seed=42,\n",
    "#                                             shuffle=False,\n",
    "#                                             class_mode=\"categorical\",\n",
    "#                                             target_size=(224, 224))\n",
    "\n",
    "# train_steps = training_set.n//training_set.batch_size\n",
    "# validation_steps = test_set.n//test_set.batch_size"
   ]
  },
  {
   "cell_type": "code",
   "execution_count": null,
   "id": "8e26faac",
   "metadata": {},
   "outputs": [],
   "source": [
    "train_ds = tf.data.Dataset.from_tensor_slices((train_img_path, train_label))\n",
    "test_ds = tf.data.Dataset.from_tensor_slices((test_img_path, test_label))\n",
    "\n",
    "\n",
    "train_ds = (train_ds\n",
    "            .map(process_img_train, num_parallel_calls=tf.data.experimental.AUTOTUNE)\n",
    "            .shuffle(2048)\n",
    "            .batch(batch_size, drop_remainder=True)\n",
    "            .prefetch(tf.data.experimental.AUTOTUNE))\n",
    "\n",
    "test_ds = (test_ds\n",
    "           .map(process_img_test, num_parallel_calls=tf.data.experimental.AUTOTUNE)\n",
    "           .batch(batch_size, drop_remainder=True)\n",
    "           .prefetch(tf.data.experimental.AUTOTUNE))"
   ]
  },
  {
   "cell_type": "code",
   "execution_count": null,
   "id": "d714d106",
   "metadata": {},
   "outputs": [],
   "source": [
    "base_model = tf.keras.applications.efficientnet.EfficientNetB0(include_top=False,\n",
    "                                                            weights='imagenet',\n",
    "                                                            input_tensor=None,\n",
    "                                                            input_shape=(IMG_SIZE, IMG_SIZE, 3),\n",
    "                                                            pooling='avg')\n",
    "\n",
    "x = tf.keras.layers.Dropout(0.2)(base_model.layers[-1].output)\n",
    "x = tf.keras.layers.Dense(total_classes, \n",
    "                          activation = 'softmax', \n",
    "                          kernel_initializer = 'glorot_uniform', \n",
    "                          bias_initializer = 'Zeros')(x)\n",
    "model = tf.keras.models.Model(inputs = base_model.input, outputs = x)"
   ]
  },
  {
   "cell_type": "code",
   "execution_count": null,
   "id": "144e8760",
   "metadata": {},
   "outputs": [],
   "source": [
    "model.summary()"
   ]
  },
  {
   "cell_type": "code",
   "execution_count": null,
   "id": "a3df3618",
   "metadata": {},
   "outputs": [],
   "source": [
    "optimizer = tf.keras.optimizers.SGD(learning_rate=0.01,\n",
    "                                    momentum=0.9,\n",
    "                                    nesterov=True,\n",
    "                                    name='SGD')\n",
    "#model = multi_gpu_model(model, gpus=4)\n",
    "loss_function = tf.keras.losses.CategoricalCrossentropy()\n",
    "model.compile(loss = loss_function,\n",
    "optimizer = optimizer,\n",
    "metrics = ['accuracy'])"
   ]
  },
  {
   "cell_type": "code",
   "execution_count": null,
   "id": "707ec7fe",
   "metadata": {},
   "outputs": [],
   "source": [
    "def scheduler(epoch):\n",
    "    if epoch < 31:\n",
    "        return 0.01\n",
    "    elif epoch < 41:\n",
    "        return 0.001\n",
    "    elif epoch < 46:\n",
    "        return 0.0001\n",
    "    \n",
    "callback = tf.keras.callbacks.LearningRateScheduler(scheduler)\n",
    "callback_list = [callback]"
   ]
  },
  {
   "cell_type": "code",
   "execution_count": null,
   "id": "74617df0",
   "metadata": {},
   "outputs": [],
   "source": [
    "history = model.fit(\n",
    "  train_ds,\n",
    "  validation_data=test_ds,\n",
    "  epochs=epochs, callbacks = callback_list\n",
    ")"
   ]
  },
  {
   "cell_type": "code",
   "execution_count": null,
   "id": "a184d932",
   "metadata": {},
   "outputs": [],
   "source": [
    "logs = model.fit(training_set,steps_per_epoch=train_steps, epochs=100, \n",
    "                    validation_data=test_set,validation_steps=validation_steps, \n",
    "                    verbose = 1, callbacks = callback_list)"
   ]
  },
  {
   "cell_type": "code",
   "execution_count": null,
   "id": "5ca2d580",
   "metadata": {},
   "outputs": [],
   "source": [
    "history.history"
   ]
  },
  {
   "cell_type": "code",
   "execution_count": null,
   "id": "ca3753a0",
   "metadata": {},
   "outputs": [],
   "source": []
  },
  {
   "cell_type": "code",
   "execution_count": null,
   "id": "f1645010",
   "metadata": {},
   "outputs": [],
   "source": [
    "i = 0\n",
    "for element in tqdm(test_ds):\n",
    "    i += 1\n",
    "    img = element[0]\n",
    "    label = element[1]\n",
    "    break"
   ]
  },
  {
   "cell_type": "code",
   "execution_count": null,
   "id": "f1ee3d5b",
   "metadata": {},
   "outputs": [],
   "source": [
    "img.shape"
   ]
  },
  {
   "cell_type": "code",
   "execution_count": null,
   "id": "f6bc1fcd",
   "metadata": {},
   "outputs": [],
   "source": [
    "img/255"
   ]
  },
  {
   "cell_type": "code",
   "execution_count": null,
   "id": "f6af1287",
   "metadata": {},
   "outputs": [],
   "source": [
    "plt.imshow(img[1])"
   ]
  },
  {
   "cell_type": "code",
   "execution_count": null,
   "id": "bde09ffe",
   "metadata": {},
   "outputs": [],
   "source": [
    "label.shape"
   ]
  },
  {
   "cell_type": "code",
   "execution_count": null,
   "id": "d786a0d7",
   "metadata": {},
   "outputs": [],
   "source": [
    "label[1]"
   ]
  },
  {
   "cell_type": "code",
   "execution_count": null,
   "id": "9c07ddc5",
   "metadata": {},
   "outputs": [],
   "source": [
    "(ds_train, ds_test), ds_info = tfds.load('mnist',\n",
    "                                                 split=['train', 'test'],\n",
    "                                                 shuffle_files=True,\n",
    "                                                 as_supervised=True,\n",
    "                                                 with_info=True)"
   ]
  },
  {
   "cell_type": "code",
   "execution_count": null,
   "id": "c436a39b",
   "metadata": {},
   "outputs": [],
   "source": [
    "ds_train"
   ]
  },
  {
   "cell_type": "code",
   "execution_count": null,
   "id": "c97ff5b0",
   "metadata": {},
   "outputs": [],
   "source": [
    "ds_train = (\n",
    "    ds_train\n",
    "    .map(process_img_train, num_parallel_calls=tf.data.experimental.AUTOTUNE)\n",
    "    .shuffle(train_total_samples)\n",
    "    .batch(batch_size, drop_remainder=True)\n",
    "    .prefetch(tf.data.experimental.AUTOTUNE)\n",
    ")"
   ]
  },
  {
   "cell_type": "code",
   "execution_count": null,
   "id": "c5e16ef2",
   "metadata": {},
   "outputs": [],
   "source": [
    "len(ds_train)"
   ]
  },
  {
   "cell_type": "code",
   "execution_count": null,
   "id": "a39a3a89",
   "metadata": {},
   "outputs": [],
   "source": [
    "src_train_df.head(2)"
   ]
  },
  {
   "cell_type": "code",
   "execution_count": null,
   "id": "4ca7083d",
   "metadata": {},
   "outputs": [],
   "source": [
    "src_test_df.head(2)"
   ]
  },
  {
   "cell_type": "code",
   "execution_count": null,
   "id": "3aa3dcb4",
   "metadata": {},
   "outputs": [],
   "source": [
    "src_train_df[src_train_df['class'] == 'tiger']"
   ]
  },
  {
   "cell_type": "code",
   "execution_count": null,
   "id": "adbf5f88",
   "metadata": {},
   "outputs": [],
   "source": [
    "src_test_df[src_test_df['class'] == 'tiger']"
   ]
  },
  {
   "cell_type": "code",
   "execution_count": null,
   "id": "73ac3686",
   "metadata": {},
   "outputs": [],
   "source": [
    "src_test_df[src_test_df['label'] == 27]"
   ]
  },
  {
   "cell_type": "code",
   "execution_count": null,
   "id": "e2d7e75c",
   "metadata": {},
   "outputs": [],
   "source": [
    "src_train_df"
   ]
  },
  {
   "cell_type": "code",
   "execution_count": null,
   "id": "0c8050d6",
   "metadata": {},
   "outputs": [],
   "source": [
    "image_path = src_train_df['path'][0:4]\n",
    "label = src_train_df['label'][0:4]\n",
    "img = process_img_train(image_path, label)"
   ]
  },
  {
   "cell_type": "code",
   "execution_count": null,
   "id": "b5fabf0d",
   "metadata": {},
   "outputs": [],
   "source": [
    "img"
   ]
  },
  {
   "cell_type": "code",
   "execution_count": null,
   "id": "fa483bee",
   "metadata": {},
   "outputs": [],
   "source": [
    "image_path = src_train_df['path'][0:4]"
   ]
  },
  {
   "cell_type": "code",
   "execution_count": null,
   "id": "bda53b1b",
   "metadata": {},
   "outputs": [],
   "source": [
    "image_path"
   ]
  },
  {
   "cell_type": "code",
   "execution_count": null,
   "id": "a2b42205",
   "metadata": {},
   "outputs": [],
   "source": []
  }
 ],
 "metadata": {
  "kernelspec": {
   "display_name": "Python 3",
   "language": "python",
   "name": "python3"
  },
  "language_info": {
   "codemirror_mode": {
    "name": "ipython",
    "version": 3
   },
   "file_extension": ".py",
   "mimetype": "text/x-python",
   "name": "python",
   "nbconvert_exporter": "python",
   "pygments_lexer": "ipython3",
   "version": "3.7.9"
  }
 },
 "nbformat": 4,
 "nbformat_minor": 5
}
